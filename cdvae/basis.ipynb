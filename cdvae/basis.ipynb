{
 "cells": [
  {
   "cell_type": "code",
   "execution_count": 3,
   "metadata": {},
   "outputs": [],
   "source": [
    "from torch_geometric.nn.models.dimenet_utils import bessel_basis\n",
    "import torch\n",
    "from torch import nn\n",
    "import math"
   ]
  },
  {
   "cell_type": "code",
   "execution_count": 1,
   "metadata": {},
   "outputs": [
    {
     "ename": "OSError",
     "evalue": "Background processes not supported.",
     "output_type": "error",
     "traceback": [
      "\u001b[0;31m---------------------------------------------------------------------------\u001b[0m",
      "\u001b[0;31mOSError\u001b[0m                                   Traceback (most recent call last)",
      "Cell \u001b[0;32mIn [1], line 1\u001b[0m\n\u001b[0;32m----> 1\u001b[0m get_ipython()\u001b[39m.\u001b[39;49msystem(\u001b[39m'\u001b[39;49m\u001b[39mnohup python run.py data=mp_20 expname=mp20_baseline --multirun &\u001b[39;49m\u001b[39m'\u001b[39;49m)\n\u001b[1;32m      2\u001b[0m get_ipython()\u001b[39m.\u001b[39msystem(\u001b[39m'\u001b[39m\u001b[39mnohup python run.py data=mp_20 expname=mp20_cprop_lr0.0003 model.condition_on_prop=True optim.lr=0.0003 --multirun  &\u001b[39m\u001b[39m'\u001b[39m)\n\u001b[1;32m      3\u001b[0m get_ipython()\u001b[39m.\u001b[39msystem(\u001b[39m'\u001b[39m\u001b[39mnohup python run.py data=mp_20 expname=mp20_cprop_lr0.001 model.condition_on_prop=True optim.lr=0.001 --multirun  &\u001b[39m\u001b[39m'\u001b[39m)\n",
      "File \u001b[0;32m~/anaconda3/envs/ocp-20221025/lib/python3.9/site-packages/ipykernel/zmqshell.py:617\u001b[0m, in \u001b[0;36mZMQInteractiveShell.system_piped\u001b[0;34m(self, cmd)\u001b[0m\n\u001b[1;32m    602\u001b[0m \u001b[39m\"\"\"Call the given cmd in a subprocess, piping stdout/err\u001b[39;00m\n\u001b[1;32m    603\u001b[0m \n\u001b[1;32m    604\u001b[0m \u001b[39mParameters\u001b[39;00m\n\u001b[0;32m   (...)\u001b[0m\n\u001b[1;32m    609\u001b[0m \u001b[39m    other than simple text.\u001b[39;00m\n\u001b[1;32m    610\u001b[0m \u001b[39m\"\"\"\u001b[39;00m\n\u001b[1;32m    611\u001b[0m \u001b[39mif\u001b[39;00m cmd\u001b[39m.\u001b[39mrstrip()\u001b[39m.\u001b[39mendswith(\u001b[39m\"\u001b[39m\u001b[39m&\u001b[39m\u001b[39m\"\u001b[39m):\n\u001b[1;32m    612\u001b[0m     \u001b[39m# this is *far* from a rigorous test\u001b[39;00m\n\u001b[1;32m    613\u001b[0m     \u001b[39m# We do not support backgrounding processes because we either use\u001b[39;00m\n\u001b[1;32m    614\u001b[0m     \u001b[39m# pexpect or pipes to read from.  Users can always just call\u001b[39;00m\n\u001b[1;32m    615\u001b[0m     \u001b[39m# os.system() or use ip.system=ip.system_raw\u001b[39;00m\n\u001b[1;32m    616\u001b[0m     \u001b[39m# if they really want a background process.\u001b[39;00m\n\u001b[0;32m--> 617\u001b[0m     \u001b[39mraise\u001b[39;00m \u001b[39mOSError\u001b[39;00m(\u001b[39m\"\u001b[39m\u001b[39mBackground processes not supported.\u001b[39m\u001b[39m\"\u001b[39m)\n\u001b[1;32m    619\u001b[0m \u001b[39m# we explicitly do NOT return the subprocess status code, because\u001b[39;00m\n\u001b[1;32m    620\u001b[0m \u001b[39m# a non-None value would trigger :func:`sys.displayhook` calls.\u001b[39;00m\n\u001b[1;32m    621\u001b[0m \u001b[39m# Instead, we store the exit_code in user_ns.\u001b[39;00m\n\u001b[1;32m    622\u001b[0m \u001b[39m# Also, protect system call from UNC paths on Windows here too\u001b[39;00m\n\u001b[1;32m    623\u001b[0m \u001b[39m# as is done in InteractiveShell.system_raw\u001b[39;00m\n\u001b[1;32m    624\u001b[0m \u001b[39mif\u001b[39;00m sys\u001b[39m.\u001b[39mplatform \u001b[39m==\u001b[39m \u001b[39m\"\u001b[39m\u001b[39mwin32\u001b[39m\u001b[39m\"\u001b[39m:\n",
      "\u001b[0;31mOSError\u001b[0m: Background processes not supported."
     ]
    }
   ],
   "source": [
    "!nohup python run.py data=mp_20 expname=mp20_baseline --multirun &\n",
    "!nohup python run.py data=mp_20 expname=mp20_cprop_lr0.0003 model.condition_on_prop=True optim.lr=0.0003 --multirun  &\n",
    "!nohup python run.py data=mp_20 expname=mp20_cprop_lr0.001 model.condition_on_prop=True optim.lr=0.001 --multirun  &\n",
    "!nohup python run.py data=mp_20 expname=mp20_cprop_lr0.003 model.condition_on_prop=True optim.lr=0.003 --multirun  &\n",
    "!nohup python run.py data=mp_20 expname=mp20_tprop_lr0.0003 model.condition_on_time=True optim.lr=0.0003 --multirun  &\n",
    "!nohup python run.py data=mp_20 expname=mp20_tprop_lr0.001 model.condition_on_time=True optim.lr=0.001 --multirun  &\n",
    "!nohup python run.py data=mp_20 expname=mp20_tprop_lr0.003 model.condition_on_time=True optim.lr=0.003 --multirun  &\n",
    "!nohup python run.py data=mp_20 expname=mp20_ctprop_lr0.0003 model.condition_on_time=True model.condition_on_prop=True optim.lr=0.0003 --multirun  &\n",
    "!nohup python run.py data=mp_20 expname=mp20_ctprop_lr0.001 model.condition_on_time=True model.condition_on_prop=True optim.lr=0.001 --multirun  &\n",
    "!nohup python run.py data=mp_20 expname=mp20_ctprop_lr0.003 model.condition_on_time=True model.condition_on_prop=True optim.lr=0.003 --multirun  &"
   ]
  },
  {
   "cell_type": "code",
   "execution_count": null,
   "metadata": {},
   "outputs": [],
   "source": []
  }
 ],
 "metadata": {
  "kernelspec": {
   "display_name": "ocp-20221025",
   "language": "python",
   "name": "python3"
  },
  "language_info": {
   "codemirror_mode": {
    "name": "ipython",
    "version": 3
   },
   "file_extension": ".py",
   "mimetype": "text/x-python",
   "name": "python",
   "nbconvert_exporter": "python",
   "pygments_lexer": "ipython3",
   "version": "3.9.13"
  },
  "orig_nbformat": 4,
  "vscode": {
   "interpreter": {
    "hash": "d65991c6c421d414889b9fd4f868afe2605fa269edbb2d333dfd389949bc84b2"
   }
  }
 },
 "nbformat": 4,
 "nbformat_minor": 2
}
