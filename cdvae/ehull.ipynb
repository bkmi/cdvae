{
 "cells": [
  {
   "cell_type": "code",
   "execution_count": 1,
   "metadata": {},
   "outputs": [
    {
     "name": "stderr",
     "output_type": "stream",
     "text": [
      "/private/home/anuroops/anaconda3/envs/ocp-20221025/lib/python3.9/site-packages/tqdm/auto.py:22: TqdmWarning: IProgress not found. Please update jupyter and ipywidgets. See https://ipywidgets.readthedocs.io/en/stable/user_install.html\n",
      "  from .autonotebook import tqdm as notebook_tqdm\n"
     ]
    }
   ],
   "source": [
    "from pymatgen.ext.matproj import MPRester\n",
    "from pymatgen.entries.computed_entries import ComputedEntry, Composition, ComputedStructureEntry\n",
    "from pymatgen.analysis.phase_diagram import PhaseDiagram, PDEntry, PDPlotter"
   ]
  },
  {
   "cell_type": "code",
   "execution_count": 2,
   "metadata": {},
   "outputs": [
    {
     "name": "stderr",
     "output_type": "stream",
     "text": [
      "/private/home/anuroops/anaconda3/envs/ocp-20221025/lib/python3.9/site-packages/pymatgen/ext/matproj.py:182: UserWarning: You are using the legacy MPRester. This version of the MPRester will no longer be updated. To access the latest data with the new MPRester, obtain a new API key from https://materialsproject.org/api and consult the docs at https://docs.materialsproject.org/ for more information.\n",
      "  warnings.warn(\n"
     ]
    }
   ],
   "source": [
    "api_key = \"dH5V5JF7Hsz5nEeZ5H\"\n",
    "mprester = MPRester(api_key=api_key)"
   ]
  },
  {
   "cell_type": "code",
   "execution_count": 4,
   "metadata": {},
   "outputs": [
    {
     "data": {
      "text/plain": [
       "{'structure': Structure Summary\n",
       " Lattice\n",
       "     abc : 5.177955250310783 5.177955250310783 5.17795522336617\n",
       "  angles : 55.28961178917173 55.28961178917173 55.28961598024499\n",
       "  volume : 87.42003699644115\n",
       "       A : 4.586845 -2.402514 0.0\n",
       "       B : 4.586845 2.402514 0.0\n",
       "       C : 3.328448 0.0 3.966441\n",
       "     pbc : True True True\n",
       " PeriodicSite: Al (1.8491, 0.0000, 0.5867) [0.1479, 0.1479, 0.1479]\n",
       " PeriodicSite: Al (4.4020, 0.0000, 1.3966) [0.3521, 0.3521, 0.3521]\n",
       " PeriodicSite: Al (8.1002, 0.0000, 2.5699) [0.6479, 0.6479, 0.6479]\n",
       " PeriodicSite: Al (10.6530, 0.0000, 3.3798) [0.8521, 0.8521, 0.8521]\n",
       " PeriodicSite: O (7.7124, 0.9315, 0.9916) [0.5561, 0.9439, 0.2500]\n",
       " PeriodicSite: O (5.6629, -0.7355, 0.2227) [0.7500, 0.4439, 0.0561]\n",
       " PeriodicSite: O (6.8392, 0.7355, 3.7437) [0.2500, 0.5561, 0.9439]\n",
       " PeriodicSite: O (7.3271, -1.6670, 2.2059) [0.9439, 0.2500, 0.5561]\n",
       " PeriodicSite: O (5.1750, 1.6670, 1.7605) [0.0561, 0.7500, 0.4439]\n",
       " PeriodicSite: O (4.7898, -0.9315, 2.9748) [0.4439, 0.0561, 0.7500],\n",
       " 'final_energy': -74.81357943,\n",
       " 'e_above_hull': 0,\n",
       " 'formation_energy_per_atom': -3.4357283297500003,\n",
       " 'energy': -74.81357943,\n",
       " 'energy_per_atom': -7.481357943000001,\n",
       " 'uncorrected_energy_per_atom': None}"
      ]
     },
     "execution_count": 4,
     "metadata": {},
     "output_type": "execute_result"
    }
   ],
   "source": [
    "mpid = \"mp-1143\"\n",
    "data = mprester.query(criteria={\"task_id\": mpid}, properties=[\"structure\", \"final_energy\", \"e_above_hull\", \"formation_energy_per_atom\", \"energy\", \"energy_per_atom\", \"uncorrected_energy_per_atom\"])[0]\n",
    "# data = mprester.query(criteria={\"task_id\": \"mp-1245173\"}, properties=[\"structure\", \"final_energy\", \"e_above_hull\", \"formation_energy_per_atom\", \"energy\"])[0]\n",
    "structure = data[\"structure\"]\n",
    "data"
   ]
  },
  {
   "cell_type": "code",
   "execution_count": 5,
   "metadata": {},
   "outputs": [
    {
     "name": "stdout",
     "output_type": "stream",
     "text": [
      "['Al', 'O']\n",
      "130\n"
     ]
    }
   ],
   "source": [
    "elements = list(elt.name for elt in structure.composition.elements)\n",
    "print(elements)\n",
    "entries = mprester.get_entries_in_chemsys(elements)\n",
    "print(len(entries))"
   ]
  },
  {
   "cell_type": "code",
   "execution_count": 7,
   "metadata": {},
   "outputs": [
    {
     "name": "stdout",
     "output_type": "stream",
     "text": [
      "Al-O phase diagram\n",
      "3 stable phases: \n",
      "Al2O3, O2, Al\n"
     ]
    },
    {
     "data": {
      "text/plain": [
       "0.41219999999999946"
      ]
     },
     "execution_count": 7,
     "metadata": {},
     "output_type": "execute_result"
    }
   ],
   "source": [
    "ce = ComputedStructureEntry(structure, energy=data[\"energy\"])\n",
    "pd = PhaseDiagram(entries)\n",
    "print(pd)\n",
    "pd.get_e_above_hull(ce)"
   ]
  },
  {
   "cell_type": "code",
   "execution_count": 8,
   "metadata": {},
   "outputs": [
    {
     "data": {
      "text/plain": [
       "0.0"
      ]
     },
     "execution_count": 8,
     "metadata": {},
     "output_type": "execute_result"
    }
   ],
   "source": [
    "entry_dict = {e.entry_id: e for e in entries}\n",
    "ce2 = entry_dict[mpid]\n",
    "pd.get_e_above_hull(ce2)"
   ]
  },
  {
   "cell_type": "code",
   "execution_count": 12,
   "metadata": {},
   "outputs": [
    {
     "data": {
      "text/plain": [
       "(-7.893557943, -7.893557943)"
      ]
     },
     "execution_count": 12,
     "metadata": {},
     "output_type": "execute_result"
    }
   ],
   "source": [
    "# pd.get_decomp_and_e_above_hull(ce)[0], pd.get_decomp_and_e_above_hull(ce2)[0]\n",
    "he, he2 = pd.get_decomp_and_hull_energy_per_atom(ce.composition)[1], pd.get_decomp_and_hull_energy_per_atom(ce2.composition)[1]\n",
    "he, he2"
   ]
  },
  {
   "cell_type": "code",
   "execution_count": 15,
   "metadata": {},
   "outputs": [
    {
     "data": {
      "text/plain": [
       "(0.0, -4.122)"
      ]
     },
     "execution_count": 15,
     "metadata": {},
     "output_type": "execute_result"
    }
   ],
   "source": [
    "ce.correction, ce2.correction"
   ]
  },
  {
   "cell_type": "code",
   "execution_count": 18,
   "metadata": {},
   "outputs": [
    {
     "data": {
      "text/plain": [
       "[CompositionEnergyAdjustment:\n",
       "   Name: MP2020 anion correction (oxide)\n",
       "   Value: -4.122 eV\n",
       "   Uncertainty: 0.012 eV\n",
       "   Description: Composition-based energy adjustment (-0.687 eV/atom x 6.0 atoms)\n",
       "   Generated by: MaterialsProject2020Compatibility]"
      ]
     },
     "execution_count": 18,
     "metadata": {},
     "output_type": "execute_result"
    }
   ],
   "source": [
    "ce2.energy_adjustments"
   ]
  },
  {
   "cell_type": "code",
   "execution_count": null,
   "metadata": {},
   "outputs": [],
   "source": []
  },
  {
   "cell_type": "code",
   "execution_count": null,
   "metadata": {},
   "outputs": [],
   "source": []
  },
  {
   "cell_type": "code",
   "execution_count": null,
   "metadata": {},
   "outputs": [],
   "source": []
  },
  {
   "cell_type": "code",
   "execution_count": 9,
   "metadata": {},
   "outputs": [
    {
     "data": {
      "application/vnd.plotly.v1+json": {
       "config": {
        "plotlyServerURL": "https://plot.ly"
       },
       "data": [
        {
         "hoverinfo": "none",
         "line": {
          "color": "rgba(0,0,0,1.0)",
          "width": 7
         },
         "mode": "lines",
         "showlegend": false,
         "type": "scatter",
         "x": [
          0.6,
          1,
          null,
          0.6,
          0,
          null
         ],
         "y": [
          -3.42655432975,
          0,
          null,
          -3.42655432975,
          0,
          null
         ]
        },
        {
         "hoverinfo": "skip",
         "mode": "text",
         "name": "Labels (stable)",
         "opacity": 1,
         "showlegend": true,
         "text": [
          "Al<sub>2</sub>O<sub>3</sub>"
         ],
         "textposition": [
          "bottom right"
         ],
         "type": "scatter",
         "visible": true,
         "x": [
          0.605
         ],
         "y": [
          -3.43155432975
         ]
        },
        {
         "hoverinfo": "text",
         "hoverlabel": {
          "font": {
           "size": 14
          }
         },
         "hovertext": [
          "O<sub>2</sub> (mp-610917) <br> 0.012 eV/atom (+0.012 eV/atom)",
          "O<sub>2</sub> (mp-1091399) <br> 0.186 eV/atom (+0.186 eV/atom)",
          "O<sub>2</sub> (mp-1180036) <br> 0.03 eV/atom (+0.03 eV/atom)",
          "O<sub>2</sub> (mp-1009490) <br> 0.002 eV/atom (+0.002 eV/atom)",
          "O<sub>2</sub> (mp-607540) <br> 0.124 eV/atom (+0.124 eV/atom)",
          "O<sub>2</sub> (mp-1066100) <br> 0.126 eV/atom (+0.126 eV/atom)",
          "O<sub>2</sub> (mp-611836) <br> 0.01 eV/atom (+0.01 eV/atom)",
          "Al (mp-1183144) <br> 0.011 eV/atom (+0.011 eV/atom)",
          "Al (mp-1245307) <br> 0.108 eV/atom (+0.108 eV/atom)",
          "Al (mp-998860) <br> 0.092 eV/atom (+0.092 eV/atom)",
          "Al (mp-1245067) <br> 0.114 eV/atom (+0.114 eV/atom)",
          "Al (mp-1244953) <br> 0.096 eV/atom (+0.096 eV/atom)",
          "Al (mp-1245152) <br> 0.102 eV/atom (+0.102 eV/atom)",
          "Al (mp-1245129) <br> 0.095 eV/atom (+0.095 eV/atom)",
          "AlO<sub>2</sub> (mp-1182858) <br> -2.671 eV/atom (+0.184 eV/atom)",
          "Al<sub>2</sub>O (mp-1245110) <br> -1.72 eV/atom (+0.184 eV/atom)",
          "Al<sub>2</sub>O (mp-1245215) <br> -1.72 eV/atom (+0.184 eV/atom)",
          "Al<sub>2</sub>O<sub>3</sub> (mp-1245111) <br> -3.266 eV/atom (+0.161 eV/atom)",
          "Al<sub>2</sub>O<sub>3</sub> (mp-684677) <br> -3.265 eV/atom (+0.161 eV/atom)",
          "Al<sub>2</sub>O<sub>3</sub> (mp-32591) <br> -3.369 eV/atom (+0.057 eV/atom)",
          "Al<sub>2</sub>O<sub>3</sub> (mp-684591) <br> -3.301 eV/atom (+0.125 eV/atom)",
          "Al<sub>2</sub>O<sub>3</sub> (mp-1245191) <br> -3.249 eV/atom (+0.178 eV/atom)",
          "Al<sub>2</sub>O<sub>3</sub> (mp-1245037) <br> -3.235 eV/atom (+0.192 eV/atom)",
          "Al<sub>2</sub>O<sub>3</sub> (mp-1244940) <br> -3.237 eV/atom (+0.189 eV/atom)",
          "Al<sub>2</sub>O<sub>3</sub> (mp-1245211) <br> -3.385 eV/atom (+0.042 eV/atom)",
          "Al<sub>2</sub>O<sub>3</sub> (mp-776475) <br> -3.397 eV/atom (+0.03 eV/atom)",
          "Al<sub>2</sub>O<sub>3</sub> (mp-1938) <br> -3.333 eV/atom (+0.093 eV/atom)",
          "Al<sub>2</sub>O<sub>3</sub> (mp-1244954) <br> -3.232 eV/atom (+0.194 eV/atom)",
          "Al<sub>2</sub>O<sub>3</sub> (mp-776490) <br> -3.379 eV/atom (+0.048 eV/atom)",
          "Al<sub>2</sub>O<sub>3</sub> (mp-759943) <br> -3.391 eV/atom (+0.035 eV/atom)",
          "Al<sub>2</sub>O<sub>3</sub> (mp-754531) <br> -3.35 eV/atom (+0.076 eV/atom)",
          "Al<sub>2</sub>O<sub>3</sub> (mp-1245173) <br> -3.272 eV/atom (+0.154 eV/atom)",
          "Al<sub>2</sub>O<sub>3</sub> (mp-685036) <br> -3.316 eV/atom (+0.111 eV/atom)",
          "Al<sub>2</sub>O<sub>3</sub> (mp-32570) <br> -3.394 eV/atom (+0.032 eV/atom)",
          "Al<sub>2</sub>O<sub>3</sub> (mp-1244909) <br> -3.255 eV/atom (+0.172 eV/atom)",
          "Al<sub>2</sub>O<sub>3</sub> (mp-1244947) <br> -3.258 eV/atom (+0.169 eV/atom)",
          "Al<sub>2</sub>O<sub>3</sub> (mp-1245279) <br> -3.233 eV/atom (+0.194 eV/atom)",
          "Al<sub>2</sub>O<sub>3</sub> (mp-754812) <br> -3.374 eV/atom (+0.053 eV/atom)",
          "Al<sub>2</sub>O<sub>3</sub> (mp-754401) <br> -3.381 eV/atom (+0.046 eV/atom)",
          "Al<sub>2</sub>O<sub>3</sub> (mp-684990) <br> -3.232 eV/atom (+0.195 eV/atom)",
          "Al<sub>2</sub>O<sub>3</sub> (mp-755175) <br> -3.355 eV/atom (+0.072 eV/atom)",
          "Al<sub>2</sub>O<sub>3</sub> (mp-1244930) <br> -3.244 eV/atom (+0.182 eV/atom)",
          "Al<sub>2</sub>O<sub>3</sub> (mp-1245056) <br> -3.26 eV/atom (+0.167 eV/atom)",
          "Al<sub>2</sub>O<sub>3</sub> (mp-1245080) <br> -3.249 eV/atom (+0.177 eV/atom)",
          "Al<sub>2</sub>O<sub>3</sub> (mp-7048) <br> -3.417 eV/atom (+0.009 eV/atom)",
          "Al<sub>2</sub>O<sub>3</sub> (mp-754624) <br> -3.361 eV/atom (+0.065 eV/atom)",
          "Al<sub>2</sub>O<sub>3</sub> (mp-752826) <br> -3.348 eV/atom (+0.079 eV/atom)",
          "Al<sub>2</sub>O<sub>3</sub> (mp-1245262) <br> -3.266 eV/atom (+0.16 eV/atom)",
          "Al<sub>2</sub>O<sub>3</sub> (mp-1245052) <br> -3.235 eV/atom (+0.192 eV/atom)",
          "Al<sub>2</sub>O<sub>3</sub> (mp-755066) <br> -3.338 eV/atom (+0.089 eV/atom)",
          "Al<sub>2</sub>O<sub>3</sub> (mp-1244967) <br> -3.255 eV/atom (+0.172 eV/atom)",
          "Al<sub>2</sub>O<sub>3</sub> (mp-1245183) <br> -3.226 eV/atom (+0.2 eV/atom)",
          "Al<sub>2</sub>O<sub>3</sub> (mp-2254) <br> -3.41 eV/atom (+0.017 eV/atom)",
          "Al<sub>2</sub>O<sub>3</sub> (mp-1244982) <br> -3.232 eV/atom (+0.194 eV/atom)",
          "Al<sub>2</sub>O<sub>3</sub> (mp-782035) <br> -3.336 eV/atom (+0.09 eV/atom)",
          "Al<sub>2</sub>O<sub>3</sub> (mp-755483) <br> -3.336 eV/atom (+0.091 eV/atom)",
          "Al<sub>5</sub>O<sub>8</sub> (mp-1182893) <br> -3.232 eV/atom (+0.063 eV/atom)",
          "Al<sub>5</sub>O<sub>8</sub> (mp-1228138) <br> -3.153 eV/atom (+0.141 eV/atom)",
          "Al<sub>8</sub>O<sub>3</sub> (mp-1244893) <br> -1.39 eV/atom (+0.168 eV/atom)",
          "Al<sub>11</sub>O<sub>18</sub> (mp-1229215) <br> -3.132 eV/atom (+0.118 eV/atom)",
          "Al<sub>38</sub>O<sub>21</sub> (mp-1245113) <br> -1.854 eV/atom (+0.179 eV/atom)",
          "Al<sub>38</sub>O<sub>21</sub> (mp-1245250) <br> -1.846 eV/atom (+0.187 eV/atom)"
         ],
         "marker": {
          "color": [
           0.012,
           0.186,
           0.03,
           0.002,
           0.124,
           0.126,
           0.01,
           0.011,
           0.108,
           0.092,
           0.114,
           0.096,
           0.102,
           0.095,
           0.184,
           0.184,
           0.184,
           0.161,
           0.161,
           0.057,
           0.125,
           0.178,
           0.192,
           0.189,
           0.042,
           0.03,
           0.093,
           0.194,
           0.048,
           0.035,
           0.076,
           0.154,
           0.111,
           0.032,
           0.172,
           0.169,
           0.194,
           0.053,
           0.046,
           0.195,
           0.072,
           0.182,
           0.167,
           0.177,
           0.009,
           0.065,
           0.079,
           0.16,
           0.192,
           0.089,
           0.172,
           0.2,
           0.017,
           0.194,
           0.09,
           0.091,
           0.063,
           0.141,
           0.168,
           0.118,
           0.179,
           0.187
          ],
          "colorscale": [
           [
            0,
            "#fad393"
           ],
           [
            0.5,
            "#ff813d"
           ],
           [
            1,
            "#ff0000"
           ]
          ],
          "size": 6,
          "symbol": "diamond"
         },
         "mode": "markers",
         "name": "Above Hull",
         "showlegend": true,
         "type": "scatter",
         "x": [
          1,
          1,
          1,
          1,
          1,
          1,
          1,
          0,
          0,
          0,
          0,
          0,
          0,
          0,
          0.6666666666666666,
          0.3333333333333333,
          0.3333333333333333,
          0.6,
          0.6,
          0.6,
          0.6,
          0.6,
          0.6,
          0.6,
          0.6,
          0.6,
          0.6,
          0.6,
          0.6,
          0.6,
          0.6,
          0.6,
          0.6,
          0.6,
          0.6,
          0.6,
          0.6,
          0.6,
          0.6,
          0.6,
          0.6,
          0.6,
          0.6,
          0.6,
          0.6,
          0.6,
          0.6,
          0.6,
          0.6,
          0.6,
          0.6,
          0.6,
          0.6,
          0.6,
          0.6,
          0.6,
          0.6153846153846154,
          0.6153846153846154,
          0.2727272727272727,
          0.6206896551724138,
          0.3559322033898305,
          0.3559322033898305
         ],
         "y": [
          0.012106898749999928,
          0.18576941500000022,
          0.029970823750000264,
          0.0017120537500003863,
          0.1235921087499996,
          0.1257160487500002,
          0.009971443749999587,
          0.01144597249999979,
          0.10754954110000028,
          0.09244398000000009,
          0.11430868650000037,
          0.09572362820000023,
          0.1020815508000004,
          0.09475041080000039,
          -2.671236389166666,
          -1.7200654128240738,
          -1.7201276531944445,
          -3.2656167787499997,
          -3.2653930974999996,
          -3.3694572308749997,
          -3.3011681170000005,
          -3.24857294035,
          -3.23453939525,
          -3.2371582600500006,
          -3.3846617952499995,
          -3.3967896929999997,
          -3.3331970572499996,
          -3.23217551105,
          -3.3787444072499992,
          -3.3914190128749993,
          -3.35009901625,
          -3.2723715897500005,
          -3.3157630350000007,
          -3.3941438957499996,
          -3.25490644225,
          -3.25776214955,
          -3.23282040445,
          -3.3737152447499996,
          -3.38095422775,
          -3.2317116264166668,
          -3.3545425412499994,
          -3.24421903585,
          -3.2596635052500007,
          -3.2493437579500006,
          -3.41717310775,
          -3.3610588037499993,
          -3.34781168275,
          -3.26613159905,
          -3.234610858350001,
          -3.3378121122500004,
          -3.2547279372499998,
          -3.2261711424500006,
          -3.4096672889999993,
          -3.2324101762500006,
          -3.3364763970833335,
          -3.33555172475,
          -3.231500421153846,
          -3.1534111484615384,
          -1.389688474431818,
          -3.1316560892241383,
          -1.8535891118008487,
          -1.8460963702754245
         ]
        },
        {
         "error_y": {
          "array": [
           0,
           0,
           0
          ],
          "color": "gray",
          "thickness": 2.5,
          "type": "data",
          "width": 5
         },
         "hoverinfo": "text",
         "hoverlabel": {
          "font": {
           "size": 14
          }
         },
         "hovertext": [
          "Al<sub>2</sub>O<sub>3</sub> (mp-1143) <br> -3.427 eV/atom",
          "O<sub>2</sub> (mp-12957) <br> 0.0 eV/atom",
          "Al (mp-134) <br> 0.0 eV/atom"
         ],
         "marker": {
          "color": "darkgreen",
          "line": {
           "color": "black",
           "width": 2
          },
          "size": 11
         },
         "mode": "markers",
         "name": "Stable",
         "opacity": 0.9,
         "showlegend": true,
         "type": "scatter",
         "x": [
          0.6,
          1,
          0
         ],
         "y": [
          -3.42655432975,
          0,
          0
         ]
        }
       ],
       "layout": {
        "annotations": [
         {
          "align": "center",
          "font": {
           "color": "#000000",
           "size": 24
          },
          "opacity": 1,
          "showarrow": false,
          "text": "O",
          "x": 1,
          "xanchor": "right",
          "xref": "x",
          "xshift": -10,
          "y": 0,
          "yanchor": "auto",
          "yref": "y",
          "yshift": -10
         },
         {
          "align": "center",
          "font": {
           "color": "#000000",
           "size": 24
          },
          "opacity": 1,
          "showarrow": false,
          "text": "Al",
          "x": 0,
          "xanchor": "right",
          "xref": "x",
          "xshift": -10,
          "y": 0,
          "yanchor": "auto",
          "yref": "y",
          "yshift": -10
         }
        ],
        "autosize": true,
        "height": 700,
        "hovermode": "closest",
        "legend": {
         "orientation": "h",
         "tracegroupgap": 7,
         "traceorder": "reversed",
         "x": 0,
         "xanchor": "left",
         "y": 1.05
        },
        "margin": {
         "b": 20,
         "l": 10,
         "pad": 20,
         "r": 10,
         "t": 20
        },
        "paper_bgcolor": "rgba(0,0,0,0)",
        "plot_bgcolor": "rgba(0,0,0,0)",
        "showlegend": true,
        "template": {
         "data": {
          "bar": [
           {
            "error_x": {
             "color": "#2a3f5f"
            },
            "error_y": {
             "color": "#2a3f5f"
            },
            "marker": {
             "line": {
              "color": "#E5ECF6",
              "width": 0.5
             },
             "pattern": {
              "fillmode": "overlay",
              "size": 10,
              "solidity": 0.2
             }
            },
            "type": "bar"
           }
          ],
          "barpolar": [
           {
            "marker": {
             "line": {
              "color": "#E5ECF6",
              "width": 0.5
             },
             "pattern": {
              "fillmode": "overlay",
              "size": 10,
              "solidity": 0.2
             }
            },
            "type": "barpolar"
           }
          ],
          "carpet": [
           {
            "aaxis": {
             "endlinecolor": "#2a3f5f",
             "gridcolor": "white",
             "linecolor": "white",
             "minorgridcolor": "white",
             "startlinecolor": "#2a3f5f"
            },
            "baxis": {
             "endlinecolor": "#2a3f5f",
             "gridcolor": "white",
             "linecolor": "white",
             "minorgridcolor": "white",
             "startlinecolor": "#2a3f5f"
            },
            "type": "carpet"
           }
          ],
          "choropleth": [
           {
            "colorbar": {
             "outlinewidth": 0,
             "ticks": ""
            },
            "type": "choropleth"
           }
          ],
          "contour": [
           {
            "colorbar": {
             "outlinewidth": 0,
             "ticks": ""
            },
            "colorscale": [
             [
              0,
              "#0d0887"
             ],
             [
              0.1111111111111111,
              "#46039f"
             ],
             [
              0.2222222222222222,
              "#7201a8"
             ],
             [
              0.3333333333333333,
              "#9c179e"
             ],
             [
              0.4444444444444444,
              "#bd3786"
             ],
             [
              0.5555555555555556,
              "#d8576b"
             ],
             [
              0.6666666666666666,
              "#ed7953"
             ],
             [
              0.7777777777777778,
              "#fb9f3a"
             ],
             [
              0.8888888888888888,
              "#fdca26"
             ],
             [
              1,
              "#f0f921"
             ]
            ],
            "type": "contour"
           }
          ],
          "contourcarpet": [
           {
            "colorbar": {
             "outlinewidth": 0,
             "ticks": ""
            },
            "type": "contourcarpet"
           }
          ],
          "heatmap": [
           {
            "colorbar": {
             "outlinewidth": 0,
             "ticks": ""
            },
            "colorscale": [
             [
              0,
              "#0d0887"
             ],
             [
              0.1111111111111111,
              "#46039f"
             ],
             [
              0.2222222222222222,
              "#7201a8"
             ],
             [
              0.3333333333333333,
              "#9c179e"
             ],
             [
              0.4444444444444444,
              "#bd3786"
             ],
             [
              0.5555555555555556,
              "#d8576b"
             ],
             [
              0.6666666666666666,
              "#ed7953"
             ],
             [
              0.7777777777777778,
              "#fb9f3a"
             ],
             [
              0.8888888888888888,
              "#fdca26"
             ],
             [
              1,
              "#f0f921"
             ]
            ],
            "type": "heatmap"
           }
          ],
          "heatmapgl": [
           {
            "colorbar": {
             "outlinewidth": 0,
             "ticks": ""
            },
            "colorscale": [
             [
              0,
              "#0d0887"
             ],
             [
              0.1111111111111111,
              "#46039f"
             ],
             [
              0.2222222222222222,
              "#7201a8"
             ],
             [
              0.3333333333333333,
              "#9c179e"
             ],
             [
              0.4444444444444444,
              "#bd3786"
             ],
             [
              0.5555555555555556,
              "#d8576b"
             ],
             [
              0.6666666666666666,
              "#ed7953"
             ],
             [
              0.7777777777777778,
              "#fb9f3a"
             ],
             [
              0.8888888888888888,
              "#fdca26"
             ],
             [
              1,
              "#f0f921"
             ]
            ],
            "type": "heatmapgl"
           }
          ],
          "histogram": [
           {
            "marker": {
             "pattern": {
              "fillmode": "overlay",
              "size": 10,
              "solidity": 0.2
             }
            },
            "type": "histogram"
           }
          ],
          "histogram2d": [
           {
            "colorbar": {
             "outlinewidth": 0,
             "ticks": ""
            },
            "colorscale": [
             [
              0,
              "#0d0887"
             ],
             [
              0.1111111111111111,
              "#46039f"
             ],
             [
              0.2222222222222222,
              "#7201a8"
             ],
             [
              0.3333333333333333,
              "#9c179e"
             ],
             [
              0.4444444444444444,
              "#bd3786"
             ],
             [
              0.5555555555555556,
              "#d8576b"
             ],
             [
              0.6666666666666666,
              "#ed7953"
             ],
             [
              0.7777777777777778,
              "#fb9f3a"
             ],
             [
              0.8888888888888888,
              "#fdca26"
             ],
             [
              1,
              "#f0f921"
             ]
            ],
            "type": "histogram2d"
           }
          ],
          "histogram2dcontour": [
           {
            "colorbar": {
             "outlinewidth": 0,
             "ticks": ""
            },
            "colorscale": [
             [
              0,
              "#0d0887"
             ],
             [
              0.1111111111111111,
              "#46039f"
             ],
             [
              0.2222222222222222,
              "#7201a8"
             ],
             [
              0.3333333333333333,
              "#9c179e"
             ],
             [
              0.4444444444444444,
              "#bd3786"
             ],
             [
              0.5555555555555556,
              "#d8576b"
             ],
             [
              0.6666666666666666,
              "#ed7953"
             ],
             [
              0.7777777777777778,
              "#fb9f3a"
             ],
             [
              0.8888888888888888,
              "#fdca26"
             ],
             [
              1,
              "#f0f921"
             ]
            ],
            "type": "histogram2dcontour"
           }
          ],
          "mesh3d": [
           {
            "colorbar": {
             "outlinewidth": 0,
             "ticks": ""
            },
            "type": "mesh3d"
           }
          ],
          "parcoords": [
           {
            "line": {
             "colorbar": {
              "outlinewidth": 0,
              "ticks": ""
             }
            },
            "type": "parcoords"
           }
          ],
          "pie": [
           {
            "automargin": true,
            "type": "pie"
           }
          ],
          "scatter": [
           {
            "fillpattern": {
             "fillmode": "overlay",
             "size": 10,
             "solidity": 0.2
            },
            "type": "scatter"
           }
          ],
          "scatter3d": [
           {
            "line": {
             "colorbar": {
              "outlinewidth": 0,
              "ticks": ""
             }
            },
            "marker": {
             "colorbar": {
              "outlinewidth": 0,
              "ticks": ""
             }
            },
            "type": "scatter3d"
           }
          ],
          "scattercarpet": [
           {
            "marker": {
             "colorbar": {
              "outlinewidth": 0,
              "ticks": ""
             }
            },
            "type": "scattercarpet"
           }
          ],
          "scattergeo": [
           {
            "marker": {
             "colorbar": {
              "outlinewidth": 0,
              "ticks": ""
             }
            },
            "type": "scattergeo"
           }
          ],
          "scattergl": [
           {
            "marker": {
             "colorbar": {
              "outlinewidth": 0,
              "ticks": ""
             }
            },
            "type": "scattergl"
           }
          ],
          "scattermapbox": [
           {
            "marker": {
             "colorbar": {
              "outlinewidth": 0,
              "ticks": ""
             }
            },
            "type": "scattermapbox"
           }
          ],
          "scatterpolar": [
           {
            "marker": {
             "colorbar": {
              "outlinewidth": 0,
              "ticks": ""
             }
            },
            "type": "scatterpolar"
           }
          ],
          "scatterpolargl": [
           {
            "marker": {
             "colorbar": {
              "outlinewidth": 0,
              "ticks": ""
             }
            },
            "type": "scatterpolargl"
           }
          ],
          "scatterternary": [
           {
            "marker": {
             "colorbar": {
              "outlinewidth": 0,
              "ticks": ""
             }
            },
            "type": "scatterternary"
           }
          ],
          "surface": [
           {
            "colorbar": {
             "outlinewidth": 0,
             "ticks": ""
            },
            "colorscale": [
             [
              0,
              "#0d0887"
             ],
             [
              0.1111111111111111,
              "#46039f"
             ],
             [
              0.2222222222222222,
              "#7201a8"
             ],
             [
              0.3333333333333333,
              "#9c179e"
             ],
             [
              0.4444444444444444,
              "#bd3786"
             ],
             [
              0.5555555555555556,
              "#d8576b"
             ],
             [
              0.6666666666666666,
              "#ed7953"
             ],
             [
              0.7777777777777778,
              "#fb9f3a"
             ],
             [
              0.8888888888888888,
              "#fdca26"
             ],
             [
              1,
              "#f0f921"
             ]
            ],
            "type": "surface"
           }
          ],
          "table": [
           {
            "cells": {
             "fill": {
              "color": "#EBF0F8"
             },
             "line": {
              "color": "white"
             }
            },
            "header": {
             "fill": {
              "color": "#C8D4E3"
             },
             "line": {
              "color": "white"
             }
            },
            "type": "table"
           }
          ]
         },
         "layout": {
          "annotationdefaults": {
           "arrowcolor": "#2a3f5f",
           "arrowhead": 0,
           "arrowwidth": 1
          },
          "autotypenumbers": "strict",
          "coloraxis": {
           "colorbar": {
            "outlinewidth": 0,
            "ticks": ""
           }
          },
          "colorscale": {
           "diverging": [
            [
             0,
             "#8e0152"
            ],
            [
             0.1,
             "#c51b7d"
            ],
            [
             0.2,
             "#de77ae"
            ],
            [
             0.3,
             "#f1b6da"
            ],
            [
             0.4,
             "#fde0ef"
            ],
            [
             0.5,
             "#f7f7f7"
            ],
            [
             0.6,
             "#e6f5d0"
            ],
            [
             0.7,
             "#b8e186"
            ],
            [
             0.8,
             "#7fbc41"
            ],
            [
             0.9,
             "#4d9221"
            ],
            [
             1,
             "#276419"
            ]
           ],
           "sequential": [
            [
             0,
             "#0d0887"
            ],
            [
             0.1111111111111111,
             "#46039f"
            ],
            [
             0.2222222222222222,
             "#7201a8"
            ],
            [
             0.3333333333333333,
             "#9c179e"
            ],
            [
             0.4444444444444444,
             "#bd3786"
            ],
            [
             0.5555555555555556,
             "#d8576b"
            ],
            [
             0.6666666666666666,
             "#ed7953"
            ],
            [
             0.7777777777777778,
             "#fb9f3a"
            ],
            [
             0.8888888888888888,
             "#fdca26"
            ],
            [
             1,
             "#f0f921"
            ]
           ],
           "sequentialminus": [
            [
             0,
             "#0d0887"
            ],
            [
             0.1111111111111111,
             "#46039f"
            ],
            [
             0.2222222222222222,
             "#7201a8"
            ],
            [
             0.3333333333333333,
             "#9c179e"
            ],
            [
             0.4444444444444444,
             "#bd3786"
            ],
            [
             0.5555555555555556,
             "#d8576b"
            ],
            [
             0.6666666666666666,
             "#ed7953"
            ],
            [
             0.7777777777777778,
             "#fb9f3a"
            ],
            [
             0.8888888888888888,
             "#fdca26"
            ],
            [
             1,
             "#f0f921"
            ]
           ]
          },
          "colorway": [
           "#636efa",
           "#EF553B",
           "#00cc96",
           "#ab63fa",
           "#FFA15A",
           "#19d3f3",
           "#FF6692",
           "#B6E880",
           "#FF97FF",
           "#FECB52"
          ],
          "font": {
           "color": "#2a3f5f"
          },
          "geo": {
           "bgcolor": "white",
           "lakecolor": "white",
           "landcolor": "#E5ECF6",
           "showlakes": true,
           "showland": true,
           "subunitcolor": "white"
          },
          "hoverlabel": {
           "align": "left"
          },
          "hovermode": "closest",
          "mapbox": {
           "style": "light"
          },
          "paper_bgcolor": "white",
          "plot_bgcolor": "#E5ECF6",
          "polar": {
           "angularaxis": {
            "gridcolor": "white",
            "linecolor": "white",
            "ticks": ""
           },
           "bgcolor": "#E5ECF6",
           "radialaxis": {
            "gridcolor": "white",
            "linecolor": "white",
            "ticks": ""
           }
          },
          "scene": {
           "xaxis": {
            "backgroundcolor": "#E5ECF6",
            "gridcolor": "white",
            "gridwidth": 2,
            "linecolor": "white",
            "showbackground": true,
            "ticks": "",
            "zerolinecolor": "white"
           },
           "yaxis": {
            "backgroundcolor": "#E5ECF6",
            "gridcolor": "white",
            "gridwidth": 2,
            "linecolor": "white",
            "showbackground": true,
            "ticks": "",
            "zerolinecolor": "white"
           },
           "zaxis": {
            "backgroundcolor": "#E5ECF6",
            "gridcolor": "white",
            "gridwidth": 2,
            "linecolor": "white",
            "showbackground": true,
            "ticks": "",
            "zerolinecolor": "white"
           }
          },
          "shapedefaults": {
           "line": {
            "color": "#2a3f5f"
           }
          },
          "ternary": {
           "aaxis": {
            "gridcolor": "white",
            "linecolor": "white",
            "ticks": ""
           },
           "baxis": {
            "gridcolor": "white",
            "linecolor": "white",
            "ticks": ""
           },
           "bgcolor": "#E5ECF6",
           "caxis": {
            "gridcolor": "white",
            "linecolor": "white",
            "ticks": ""
           }
          },
          "title": {
           "x": 0.05
          },
          "xaxis": {
           "automargin": true,
           "gridcolor": "white",
           "linecolor": "white",
           "ticks": "",
           "title": {
            "standoff": 15
           },
           "zerolinecolor": "white",
           "zerolinewidth": 2
          },
          "yaxis": {
           "automargin": true,
           "gridcolor": "white",
           "linecolor": "white",
           "ticks": "",
           "title": {
            "standoff": 15
           },
           "zerolinecolor": "white",
           "zerolinewidth": 2
          }
         }
        },
        "xaxis": {
         "anchor": "y",
         "gridcolor": "rgba(0,0,0,0.1)",
         "mirror": "ticks",
         "nticks": 8,
         "showgrid": true,
         "showline": true,
         "side": "bottom",
         "tickfont": {
          "size": 16
         },
         "ticks": "inside",
         "title": {
          "font": {
           "color": "#000000",
           "size": 20
          },
          "text": "Fraction"
         },
         "type": "linear",
         "zeroline": false
        },
        "yaxis": {
         "anchor": "x",
         "gridcolor": "rgba(0,0,0,0.1)",
         "mirror": "ticks",
         "showgrid": true,
         "showline": true,
         "side": "left",
         "tickfont": {
          "size": 16
         },
         "ticks": "inside",
         "title": {
          "font": {
           "color": "#000000",
           "size": 20
          },
          "text": "Formation energy (eV/atom)"
         },
         "type": "linear"
        }
       }
      },
      "text/html": [
       "<div>                            <div id=\"35707b1f-02e4-451b-833e-d28a4184d219\" class=\"plotly-graph-div\" style=\"height:700px; width:100%;\"></div>            <script type=\"text/javascript\">                require([\"plotly\"], function(Plotly) {                    window.PLOTLYENV=window.PLOTLYENV || {};                                    if (document.getElementById(\"35707b1f-02e4-451b-833e-d28a4184d219\")) {                    Plotly.newPlot(                        \"35707b1f-02e4-451b-833e-d28a4184d219\",                        [{\"hoverinfo\":\"none\",\"line\":{\"color\":\"rgba(0,0,0,1.0)\",\"width\":7.0},\"mode\":\"lines\",\"showlegend\":false,\"x\":[0.6,1.0,null,0.6,0.0,null],\"y\":[-3.42655432975,0.0,null,-3.42655432975,0.0,null],\"type\":\"scatter\"},{\"hoverinfo\":\"skip\",\"mode\":\"text\",\"name\":\"Labels (stable)\",\"opacity\":1.0,\"showlegend\":true,\"text\":[\"Al<sub>2</sub>O<sub>3</sub>\"],\"textposition\":[\"bottom right\"],\"visible\":true,\"x\":[0.605],\"y\":[-3.43155432975],\"type\":\"scatter\"},{\"hoverinfo\":\"text\",\"hoverlabel\":{\"font\":{\"size\":14}},\"hovertext\":[\"O<sub>2</sub> (mp-610917) <br> 0.012 eV/atom (+0.012 eV/atom)\",\"O<sub>2</sub> (mp-1091399) <br> 0.186 eV/atom (+0.186 eV/atom)\",\"O<sub>2</sub> (mp-1180036) <br> 0.03 eV/atom (+0.03 eV/atom)\",\"O<sub>2</sub> (mp-1009490) <br> 0.002 eV/atom (+0.002 eV/atom)\",\"O<sub>2</sub> (mp-607540) <br> 0.124 eV/atom (+0.124 eV/atom)\",\"O<sub>2</sub> (mp-1066100) <br> 0.126 eV/atom (+0.126 eV/atom)\",\"O<sub>2</sub> (mp-611836) <br> 0.01 eV/atom (+0.01 eV/atom)\",\"Al (mp-1183144) <br> 0.011 eV/atom (+0.011 eV/atom)\",\"Al (mp-1245307) <br> 0.108 eV/atom (+0.108 eV/atom)\",\"Al (mp-998860) <br> 0.092 eV/atom (+0.092 eV/atom)\",\"Al (mp-1245067) <br> 0.114 eV/atom (+0.114 eV/atom)\",\"Al (mp-1244953) <br> 0.096 eV/atom (+0.096 eV/atom)\",\"Al (mp-1245152) <br> 0.102 eV/atom (+0.102 eV/atom)\",\"Al (mp-1245129) <br> 0.095 eV/atom (+0.095 eV/atom)\",\"AlO<sub>2</sub> (mp-1182858) <br> -2.671 eV/atom (+0.184 eV/atom)\",\"Al<sub>2</sub>O (mp-1245110) <br> -1.72 eV/atom (+0.184 eV/atom)\",\"Al<sub>2</sub>O (mp-1245215) <br> -1.72 eV/atom (+0.184 eV/atom)\",\"Al<sub>2</sub>O<sub>3</sub> (mp-1245111) <br> -3.266 eV/atom (+0.161 eV/atom)\",\"Al<sub>2</sub>O<sub>3</sub> (mp-684677) <br> -3.265 eV/atom (+0.161 eV/atom)\",\"Al<sub>2</sub>O<sub>3</sub> (mp-32591) <br> -3.369 eV/atom (+0.057 eV/atom)\",\"Al<sub>2</sub>O<sub>3</sub> (mp-684591) <br> -3.301 eV/atom (+0.125 eV/atom)\",\"Al<sub>2</sub>O<sub>3</sub> (mp-1245191) <br> -3.249 eV/atom (+0.178 eV/atom)\",\"Al<sub>2</sub>O<sub>3</sub> (mp-1245037) <br> -3.235 eV/atom (+0.192 eV/atom)\",\"Al<sub>2</sub>O<sub>3</sub> (mp-1244940) <br> -3.237 eV/atom (+0.189 eV/atom)\",\"Al<sub>2</sub>O<sub>3</sub> (mp-1245211) <br> -3.385 eV/atom (+0.042 eV/atom)\",\"Al<sub>2</sub>O<sub>3</sub> (mp-776475) <br> -3.397 eV/atom (+0.03 eV/atom)\",\"Al<sub>2</sub>O<sub>3</sub> (mp-1938) <br> -3.333 eV/atom (+0.093 eV/atom)\",\"Al<sub>2</sub>O<sub>3</sub> (mp-1244954) <br> -3.232 eV/atom (+0.194 eV/atom)\",\"Al<sub>2</sub>O<sub>3</sub> (mp-776490) <br> -3.379 eV/atom (+0.048 eV/atom)\",\"Al<sub>2</sub>O<sub>3</sub> (mp-759943) <br> -3.391 eV/atom (+0.035 eV/atom)\",\"Al<sub>2</sub>O<sub>3</sub> (mp-754531) <br> -3.35 eV/atom (+0.076 eV/atom)\",\"Al<sub>2</sub>O<sub>3</sub> (mp-1245173) <br> -3.272 eV/atom (+0.154 eV/atom)\",\"Al<sub>2</sub>O<sub>3</sub> (mp-685036) <br> -3.316 eV/atom (+0.111 eV/atom)\",\"Al<sub>2</sub>O<sub>3</sub> (mp-32570) <br> -3.394 eV/atom (+0.032 eV/atom)\",\"Al<sub>2</sub>O<sub>3</sub> (mp-1244909) <br> -3.255 eV/atom (+0.172 eV/atom)\",\"Al<sub>2</sub>O<sub>3</sub> (mp-1244947) <br> -3.258 eV/atom (+0.169 eV/atom)\",\"Al<sub>2</sub>O<sub>3</sub> (mp-1245279) <br> -3.233 eV/atom (+0.194 eV/atom)\",\"Al<sub>2</sub>O<sub>3</sub> (mp-754812) <br> -3.374 eV/atom (+0.053 eV/atom)\",\"Al<sub>2</sub>O<sub>3</sub> (mp-754401) <br> -3.381 eV/atom (+0.046 eV/atom)\",\"Al<sub>2</sub>O<sub>3</sub> (mp-684990) <br> -3.232 eV/atom (+0.195 eV/atom)\",\"Al<sub>2</sub>O<sub>3</sub> (mp-755175) <br> -3.355 eV/atom (+0.072 eV/atom)\",\"Al<sub>2</sub>O<sub>3</sub> (mp-1244930) <br> -3.244 eV/atom (+0.182 eV/atom)\",\"Al<sub>2</sub>O<sub>3</sub> (mp-1245056) <br> -3.26 eV/atom (+0.167 eV/atom)\",\"Al<sub>2</sub>O<sub>3</sub> (mp-1245080) <br> -3.249 eV/atom (+0.177 eV/atom)\",\"Al<sub>2</sub>O<sub>3</sub> (mp-7048) <br> -3.417 eV/atom (+0.009 eV/atom)\",\"Al<sub>2</sub>O<sub>3</sub> (mp-754624) <br> -3.361 eV/atom (+0.065 eV/atom)\",\"Al<sub>2</sub>O<sub>3</sub> (mp-752826) <br> -3.348 eV/atom (+0.079 eV/atom)\",\"Al<sub>2</sub>O<sub>3</sub> (mp-1245262) <br> -3.266 eV/atom (+0.16 eV/atom)\",\"Al<sub>2</sub>O<sub>3</sub> (mp-1245052) <br> -3.235 eV/atom (+0.192 eV/atom)\",\"Al<sub>2</sub>O<sub>3</sub> (mp-755066) <br> -3.338 eV/atom (+0.089 eV/atom)\",\"Al<sub>2</sub>O<sub>3</sub> (mp-1244967) <br> -3.255 eV/atom (+0.172 eV/atom)\",\"Al<sub>2</sub>O<sub>3</sub> (mp-1245183) <br> -3.226 eV/atom (+0.2 eV/atom)\",\"Al<sub>2</sub>O<sub>3</sub> (mp-2254) <br> -3.41 eV/atom (+0.017 eV/atom)\",\"Al<sub>2</sub>O<sub>3</sub> (mp-1244982) <br> -3.232 eV/atom (+0.194 eV/atom)\",\"Al<sub>2</sub>O<sub>3</sub> (mp-782035) <br> -3.336 eV/atom (+0.09 eV/atom)\",\"Al<sub>2</sub>O<sub>3</sub> (mp-755483) <br> -3.336 eV/atom (+0.091 eV/atom)\",\"Al<sub>5</sub>O<sub>8</sub> (mp-1182893) <br> -3.232 eV/atom (+0.063 eV/atom)\",\"Al<sub>5</sub>O<sub>8</sub> (mp-1228138) <br> -3.153 eV/atom (+0.141 eV/atom)\",\"Al<sub>8</sub>O<sub>3</sub> (mp-1244893) <br> -1.39 eV/atom (+0.168 eV/atom)\",\"Al<sub>11</sub>O<sub>18</sub> (mp-1229215) <br> -3.132 eV/atom (+0.118 eV/atom)\",\"Al<sub>38</sub>O<sub>21</sub> (mp-1245113) <br> -1.854 eV/atom (+0.179 eV/atom)\",\"Al<sub>38</sub>O<sub>21</sub> (mp-1245250) <br> -1.846 eV/atom (+0.187 eV/atom)\"],\"marker\":{\"color\":[0.012,0.186,0.03,0.002,0.124,0.126,0.01,0.011,0.108,0.092,0.114,0.096,0.102,0.095,0.184,0.184,0.184,0.161,0.161,0.057,0.125,0.178,0.192,0.189,0.042,0.03,0.093,0.194,0.048,0.035,0.076,0.154,0.111,0.032,0.172,0.169,0.194,0.053,0.046,0.195,0.072,0.182,0.167,0.177,0.009,0.065,0.079,0.16,0.192,0.089,0.172,0.2,0.017,0.194,0.09,0.091,0.063,0.141,0.168,0.118,0.179,0.187],\"colorscale\":[[0.0,\"#fad393\"],[0.5,\"#ff813d\"],[1.0,\"#ff0000\"]],\"size\":6,\"symbol\":\"diamond\"},\"mode\":\"markers\",\"name\":\"Above Hull\",\"showlegend\":true,\"x\":[1.0,1.0,1.0,1.0,1.0,1.0,1.0,0.0,0.0,0.0,0.0,0.0,0.0,0.0,0.6666666666666666,0.3333333333333333,0.3333333333333333,0.6,0.6,0.6,0.6,0.6,0.6,0.6,0.6,0.6,0.6,0.6,0.6,0.6,0.6,0.6,0.6,0.6,0.6,0.6,0.6,0.6,0.6,0.6,0.6,0.6,0.6,0.6,0.6,0.6,0.6,0.6,0.6,0.6,0.6,0.6,0.6,0.6,0.6,0.6,0.6153846153846154,0.6153846153846154,0.2727272727272727,0.6206896551724138,0.3559322033898305,0.3559322033898305],\"y\":[0.012106898749999928,0.18576941500000022,0.029970823750000264,0.0017120537500003863,0.1235921087499996,0.1257160487500002,0.009971443749999587,0.01144597249999979,0.10754954110000028,0.09244398000000009,0.11430868650000037,0.09572362820000023,0.1020815508000004,0.09475041080000039,-2.671236389166666,-1.7200654128240738,-1.7201276531944445,-3.2656167787499997,-3.2653930974999996,-3.3694572308749997,-3.3011681170000005,-3.24857294035,-3.23453939525,-3.2371582600500006,-3.3846617952499995,-3.3967896929999997,-3.3331970572499996,-3.23217551105,-3.3787444072499992,-3.3914190128749993,-3.35009901625,-3.2723715897500005,-3.3157630350000007,-3.3941438957499996,-3.25490644225,-3.25776214955,-3.23282040445,-3.3737152447499996,-3.38095422775,-3.2317116264166668,-3.3545425412499994,-3.24421903585,-3.2596635052500007,-3.2493437579500006,-3.41717310775,-3.3610588037499993,-3.34781168275,-3.26613159905,-3.234610858350001,-3.3378121122500004,-3.2547279372499998,-3.2261711424500006,-3.4096672889999993,-3.2324101762500006,-3.3364763970833335,-3.33555172475,-3.231500421153846,-3.1534111484615384,-1.389688474431818,-3.1316560892241383,-1.8535891118008487,-1.8460963702754245],\"type\":\"scatter\"},{\"error_y\":{\"array\":[0,0,0],\"color\":\"gray\",\"thickness\":2.5,\"type\":\"data\",\"width\":5},\"hoverinfo\":\"text\",\"hoverlabel\":{\"font\":{\"size\":14}},\"hovertext\":[\"Al<sub>2</sub>O<sub>3</sub> (mp-1143) <br> -3.427 eV/atom\",\"O<sub>2</sub> (mp-12957) <br> 0.0 eV/atom\",\"Al (mp-134) <br> 0.0 eV/atom\"],\"marker\":{\"color\":\"darkgreen\",\"line\":{\"color\":\"black\",\"width\":2},\"size\":11},\"mode\":\"markers\",\"name\":\"Stable\",\"opacity\":0.9,\"showlegend\":true,\"x\":[0.6,1.0,0.0],\"y\":[-3.42655432975,0.0,0.0],\"type\":\"scatter\"}],                        {\"annotations\":[{\"align\":\"center\",\"font\":{\"color\":\"#000000\",\"size\":24.0},\"opacity\":1.0,\"showarrow\":false,\"text\":\"O\",\"x\":1.0,\"xanchor\":\"right\",\"xref\":\"x\",\"xshift\":-10,\"y\":0.0,\"yanchor\":\"auto\",\"yref\":\"y\",\"yshift\":-10},{\"align\":\"center\",\"font\":{\"color\":\"#000000\",\"size\":24.0},\"opacity\":1.0,\"showarrow\":false,\"text\":\"Al\",\"x\":0.0,\"xanchor\":\"right\",\"xref\":\"x\",\"xshift\":-10,\"y\":0.0,\"yanchor\":\"auto\",\"yref\":\"y\",\"yshift\":-10}],\"autosize\":true,\"height\":700,\"hovermode\":\"closest\",\"legend\":{\"orientation\":\"h\",\"tracegroupgap\":7,\"traceorder\":\"reversed\",\"x\":0,\"xanchor\":\"left\",\"y\":1.05},\"margin\":{\"b\":20,\"l\":10,\"pad\":20,\"r\":10,\"t\":20},\"paper_bgcolor\":\"rgba(0,0,0,0)\",\"plot_bgcolor\":\"rgba(0,0,0,0)\",\"showlegend\":true,\"xaxis\":{\"anchor\":\"y\",\"gridcolor\":\"rgba(0,0,0,0.1)\",\"mirror\":\"ticks\",\"nticks\":8,\"showgrid\":true,\"showline\":true,\"side\":\"bottom\",\"tickfont\":{\"size\":16.0},\"ticks\":\"inside\",\"title\":{\"text\":\"Fraction\",\"font\":{\"color\":\"#000000\",\"size\":20.0}},\"type\":\"linear\",\"zeroline\":false},\"yaxis\":{\"anchor\":\"x\",\"gridcolor\":\"rgba(0,0,0,0.1)\",\"mirror\":\"ticks\",\"showgrid\":true,\"showline\":true,\"side\":\"left\",\"tickfont\":{\"size\":16.0},\"ticks\":\"inside\",\"title\":{\"text\":\"Formation energy (eV/atom)\",\"font\":{\"color\":\"#000000\",\"size\":20.0}},\"type\":\"linear\"},\"template\":{\"data\":{\"histogram2dcontour\":[{\"type\":\"histogram2dcontour\",\"colorbar\":{\"outlinewidth\":0,\"ticks\":\"\"},\"colorscale\":[[0.0,\"#0d0887\"],[0.1111111111111111,\"#46039f\"],[0.2222222222222222,\"#7201a8\"],[0.3333333333333333,\"#9c179e\"],[0.4444444444444444,\"#bd3786\"],[0.5555555555555556,\"#d8576b\"],[0.6666666666666666,\"#ed7953\"],[0.7777777777777778,\"#fb9f3a\"],[0.8888888888888888,\"#fdca26\"],[1.0,\"#f0f921\"]]}],\"choropleth\":[{\"type\":\"choropleth\",\"colorbar\":{\"outlinewidth\":0,\"ticks\":\"\"}}],\"histogram2d\":[{\"type\":\"histogram2d\",\"colorbar\":{\"outlinewidth\":0,\"ticks\":\"\"},\"colorscale\":[[0.0,\"#0d0887\"],[0.1111111111111111,\"#46039f\"],[0.2222222222222222,\"#7201a8\"],[0.3333333333333333,\"#9c179e\"],[0.4444444444444444,\"#bd3786\"],[0.5555555555555556,\"#d8576b\"],[0.6666666666666666,\"#ed7953\"],[0.7777777777777778,\"#fb9f3a\"],[0.8888888888888888,\"#fdca26\"],[1.0,\"#f0f921\"]]}],\"heatmap\":[{\"type\":\"heatmap\",\"colorbar\":{\"outlinewidth\":0,\"ticks\":\"\"},\"colorscale\":[[0.0,\"#0d0887\"],[0.1111111111111111,\"#46039f\"],[0.2222222222222222,\"#7201a8\"],[0.3333333333333333,\"#9c179e\"],[0.4444444444444444,\"#bd3786\"],[0.5555555555555556,\"#d8576b\"],[0.6666666666666666,\"#ed7953\"],[0.7777777777777778,\"#fb9f3a\"],[0.8888888888888888,\"#fdca26\"],[1.0,\"#f0f921\"]]}],\"heatmapgl\":[{\"type\":\"heatmapgl\",\"colorbar\":{\"outlinewidth\":0,\"ticks\":\"\"},\"colorscale\":[[0.0,\"#0d0887\"],[0.1111111111111111,\"#46039f\"],[0.2222222222222222,\"#7201a8\"],[0.3333333333333333,\"#9c179e\"],[0.4444444444444444,\"#bd3786\"],[0.5555555555555556,\"#d8576b\"],[0.6666666666666666,\"#ed7953\"],[0.7777777777777778,\"#fb9f3a\"],[0.8888888888888888,\"#fdca26\"],[1.0,\"#f0f921\"]]}],\"contourcarpet\":[{\"type\":\"contourcarpet\",\"colorbar\":{\"outlinewidth\":0,\"ticks\":\"\"}}],\"contour\":[{\"type\":\"contour\",\"colorbar\":{\"outlinewidth\":0,\"ticks\":\"\"},\"colorscale\":[[0.0,\"#0d0887\"],[0.1111111111111111,\"#46039f\"],[0.2222222222222222,\"#7201a8\"],[0.3333333333333333,\"#9c179e\"],[0.4444444444444444,\"#bd3786\"],[0.5555555555555556,\"#d8576b\"],[0.6666666666666666,\"#ed7953\"],[0.7777777777777778,\"#fb9f3a\"],[0.8888888888888888,\"#fdca26\"],[1.0,\"#f0f921\"]]}],\"surface\":[{\"type\":\"surface\",\"colorbar\":{\"outlinewidth\":0,\"ticks\":\"\"},\"colorscale\":[[0.0,\"#0d0887\"],[0.1111111111111111,\"#46039f\"],[0.2222222222222222,\"#7201a8\"],[0.3333333333333333,\"#9c179e\"],[0.4444444444444444,\"#bd3786\"],[0.5555555555555556,\"#d8576b\"],[0.6666666666666666,\"#ed7953\"],[0.7777777777777778,\"#fb9f3a\"],[0.8888888888888888,\"#fdca26\"],[1.0,\"#f0f921\"]]}],\"mesh3d\":[{\"type\":\"mesh3d\",\"colorbar\":{\"outlinewidth\":0,\"ticks\":\"\"}}],\"scatter\":[{\"fillpattern\":{\"fillmode\":\"overlay\",\"size\":10,\"solidity\":0.2},\"type\":\"scatter\"}],\"parcoords\":[{\"type\":\"parcoords\",\"line\":{\"colorbar\":{\"outlinewidth\":0,\"ticks\":\"\"}}}],\"scatterpolargl\":[{\"type\":\"scatterpolargl\",\"marker\":{\"colorbar\":{\"outlinewidth\":0,\"ticks\":\"\"}}}],\"bar\":[{\"error_x\":{\"color\":\"#2a3f5f\"},\"error_y\":{\"color\":\"#2a3f5f\"},\"marker\":{\"line\":{\"color\":\"#E5ECF6\",\"width\":0.5},\"pattern\":{\"fillmode\":\"overlay\",\"size\":10,\"solidity\":0.2}},\"type\":\"bar\"}],\"scattergeo\":[{\"type\":\"scattergeo\",\"marker\":{\"colorbar\":{\"outlinewidth\":0,\"ticks\":\"\"}}}],\"scatterpolar\":[{\"type\":\"scatterpolar\",\"marker\":{\"colorbar\":{\"outlinewidth\":0,\"ticks\":\"\"}}}],\"histogram\":[{\"marker\":{\"pattern\":{\"fillmode\":\"overlay\",\"size\":10,\"solidity\":0.2}},\"type\":\"histogram\"}],\"scattergl\":[{\"type\":\"scattergl\",\"marker\":{\"colorbar\":{\"outlinewidth\":0,\"ticks\":\"\"}}}],\"scatter3d\":[{\"type\":\"scatter3d\",\"line\":{\"colorbar\":{\"outlinewidth\":0,\"ticks\":\"\"}},\"marker\":{\"colorbar\":{\"outlinewidth\":0,\"ticks\":\"\"}}}],\"scattermapbox\":[{\"type\":\"scattermapbox\",\"marker\":{\"colorbar\":{\"outlinewidth\":0,\"ticks\":\"\"}}}],\"scatterternary\":[{\"type\":\"scatterternary\",\"marker\":{\"colorbar\":{\"outlinewidth\":0,\"ticks\":\"\"}}}],\"scattercarpet\":[{\"type\":\"scattercarpet\",\"marker\":{\"colorbar\":{\"outlinewidth\":0,\"ticks\":\"\"}}}],\"carpet\":[{\"aaxis\":{\"endlinecolor\":\"#2a3f5f\",\"gridcolor\":\"white\",\"linecolor\":\"white\",\"minorgridcolor\":\"white\",\"startlinecolor\":\"#2a3f5f\"},\"baxis\":{\"endlinecolor\":\"#2a3f5f\",\"gridcolor\":\"white\",\"linecolor\":\"white\",\"minorgridcolor\":\"white\",\"startlinecolor\":\"#2a3f5f\"},\"type\":\"carpet\"}],\"table\":[{\"cells\":{\"fill\":{\"color\":\"#EBF0F8\"},\"line\":{\"color\":\"white\"}},\"header\":{\"fill\":{\"color\":\"#C8D4E3\"},\"line\":{\"color\":\"white\"}},\"type\":\"table\"}],\"barpolar\":[{\"marker\":{\"line\":{\"color\":\"#E5ECF6\",\"width\":0.5},\"pattern\":{\"fillmode\":\"overlay\",\"size\":10,\"solidity\":0.2}},\"type\":\"barpolar\"}],\"pie\":[{\"automargin\":true,\"type\":\"pie\"}]},\"layout\":{\"autotypenumbers\":\"strict\",\"colorway\":[\"#636efa\",\"#EF553B\",\"#00cc96\",\"#ab63fa\",\"#FFA15A\",\"#19d3f3\",\"#FF6692\",\"#B6E880\",\"#FF97FF\",\"#FECB52\"],\"font\":{\"color\":\"#2a3f5f\"},\"hovermode\":\"closest\",\"hoverlabel\":{\"align\":\"left\"},\"paper_bgcolor\":\"white\",\"plot_bgcolor\":\"#E5ECF6\",\"polar\":{\"bgcolor\":\"#E5ECF6\",\"angularaxis\":{\"gridcolor\":\"white\",\"linecolor\":\"white\",\"ticks\":\"\"},\"radialaxis\":{\"gridcolor\":\"white\",\"linecolor\":\"white\",\"ticks\":\"\"}},\"ternary\":{\"bgcolor\":\"#E5ECF6\",\"aaxis\":{\"gridcolor\":\"white\",\"linecolor\":\"white\",\"ticks\":\"\"},\"baxis\":{\"gridcolor\":\"white\",\"linecolor\":\"white\",\"ticks\":\"\"},\"caxis\":{\"gridcolor\":\"white\",\"linecolor\":\"white\",\"ticks\":\"\"}},\"coloraxis\":{\"colorbar\":{\"outlinewidth\":0,\"ticks\":\"\"}},\"colorscale\":{\"sequential\":[[0.0,\"#0d0887\"],[0.1111111111111111,\"#46039f\"],[0.2222222222222222,\"#7201a8\"],[0.3333333333333333,\"#9c179e\"],[0.4444444444444444,\"#bd3786\"],[0.5555555555555556,\"#d8576b\"],[0.6666666666666666,\"#ed7953\"],[0.7777777777777778,\"#fb9f3a\"],[0.8888888888888888,\"#fdca26\"],[1.0,\"#f0f921\"]],\"sequentialminus\":[[0.0,\"#0d0887\"],[0.1111111111111111,\"#46039f\"],[0.2222222222222222,\"#7201a8\"],[0.3333333333333333,\"#9c179e\"],[0.4444444444444444,\"#bd3786\"],[0.5555555555555556,\"#d8576b\"],[0.6666666666666666,\"#ed7953\"],[0.7777777777777778,\"#fb9f3a\"],[0.8888888888888888,\"#fdca26\"],[1.0,\"#f0f921\"]],\"diverging\":[[0,\"#8e0152\"],[0.1,\"#c51b7d\"],[0.2,\"#de77ae\"],[0.3,\"#f1b6da\"],[0.4,\"#fde0ef\"],[0.5,\"#f7f7f7\"],[0.6,\"#e6f5d0\"],[0.7,\"#b8e186\"],[0.8,\"#7fbc41\"],[0.9,\"#4d9221\"],[1,\"#276419\"]]},\"xaxis\":{\"gridcolor\":\"white\",\"linecolor\":\"white\",\"ticks\":\"\",\"title\":{\"standoff\":15},\"zerolinecolor\":\"white\",\"automargin\":true,\"zerolinewidth\":2},\"yaxis\":{\"gridcolor\":\"white\",\"linecolor\":\"white\",\"ticks\":\"\",\"title\":{\"standoff\":15},\"zerolinecolor\":\"white\",\"automargin\":true,\"zerolinewidth\":2},\"scene\":{\"xaxis\":{\"backgroundcolor\":\"#E5ECF6\",\"gridcolor\":\"white\",\"linecolor\":\"white\",\"showbackground\":true,\"ticks\":\"\",\"zerolinecolor\":\"white\",\"gridwidth\":2},\"yaxis\":{\"backgroundcolor\":\"#E5ECF6\",\"gridcolor\":\"white\",\"linecolor\":\"white\",\"showbackground\":true,\"ticks\":\"\",\"zerolinecolor\":\"white\",\"gridwidth\":2},\"zaxis\":{\"backgroundcolor\":\"#E5ECF6\",\"gridcolor\":\"white\",\"linecolor\":\"white\",\"showbackground\":true,\"ticks\":\"\",\"zerolinecolor\":\"white\",\"gridwidth\":2}},\"shapedefaults\":{\"line\":{\"color\":\"#2a3f5f\"}},\"annotationdefaults\":{\"arrowcolor\":\"#2a3f5f\",\"arrowhead\":0,\"arrowwidth\":1},\"geo\":{\"bgcolor\":\"white\",\"landcolor\":\"#E5ECF6\",\"subunitcolor\":\"white\",\"showland\":true,\"showlakes\":true,\"lakecolor\":\"white\"},\"title\":{\"x\":0.05},\"mapbox\":{\"style\":\"light\"}}}},                        {\"responsive\": true}                    ).then(function(){\n",
       "                            \n",
       "var gd = document.getElementById('35707b1f-02e4-451b-833e-d28a4184d219');\n",
       "var x = new MutationObserver(function (mutations, observer) {{\n",
       "        var display = window.getComputedStyle(gd).display;\n",
       "        if (!display || display === 'none') {{\n",
       "            console.log([gd, 'removed!']);\n",
       "            Plotly.purge(gd);\n",
       "            observer.disconnect();\n",
       "        }}\n",
       "}});\n",
       "\n",
       "// Listen for the removal of the full notebook cells\n",
       "var notebookContainer = gd.closest('#notebook-container');\n",
       "if (notebookContainer) {{\n",
       "    x.observe(notebookContainer, {childList: true});\n",
       "}}\n",
       "\n",
       "// Listen for the clearing of the current output cell\n",
       "var outputEl = gd.closest('.output');\n",
       "if (outputEl) {{\n",
       "    x.observe(outputEl, {childList: true});\n",
       "}}\n",
       "\n",
       "                        })                };                });            </script>        </div>"
      ]
     },
     "metadata": {},
     "output_type": "display_data"
    }
   ],
   "source": [
    "plotter = PDPlotter(pd)\n",
    "plotter.show()"
   ]
  },
  {
   "cell_type": "code",
   "execution_count": null,
   "metadata": {},
   "outputs": [],
   "source": []
  }
 ],
 "metadata": {
  "kernelspec": {
   "display_name": "ocp-20221025",
   "language": "python",
   "name": "python3"
  },
  "language_info": {
   "codemirror_mode": {
    "name": "ipython",
    "version": 3
   },
   "file_extension": ".py",
   "mimetype": "text/x-python",
   "name": "python",
   "nbconvert_exporter": "python",
   "pygments_lexer": "ipython3",
   "version": "3.9.13"
  },
  "orig_nbformat": 4
 },
 "nbformat": 4,
 "nbformat_minor": 2
}
